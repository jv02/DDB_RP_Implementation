{
 "cells": [
  {
   "cell_type": "code",
   "execution_count": 2,
   "metadata": {},
   "outputs": [],
   "source": [
    "#imports\n",
    "import pandas as pd"
   ]
  },
  {
   "cell_type": "code",
   "execution_count": 1,
   "metadata": {},
   "outputs": [
    {
     "ename": "NameError",
     "evalue": "name 'pd' is not defined",
     "output_type": "error",
     "traceback": [
      "\u001b[0;31m---------------------------------------------------------------------------\u001b[0m",
      "\u001b[0;31mNameError\u001b[0m                                 Traceback (most recent call last)",
      "\u001b[0;32m/tmp/ipykernel_20623/3992228429.py\u001b[0m in \u001b[0;36m<module>\u001b[0;34m\u001b[0m\n\u001b[1;32m      1\u001b[0m \u001b[0mfilename\u001b[0m \u001b[0;34m=\u001b[0m \u001b[0;34m'main.csv'\u001b[0m\u001b[0;34m\u001b[0m\u001b[0;34m\u001b[0m\u001b[0m\n\u001b[0;32m----> 2\u001b[0;31m \u001b[0mtable\u001b[0m \u001b[0;34m=\u001b[0m \u001b[0mpd\u001b[0m\u001b[0;34m.\u001b[0m\u001b[0mread_csv\u001b[0m\u001b[0;34m(\u001b[0m\u001b[0;34m'Data/'\u001b[0m \u001b[0;34m+\u001b[0m\u001b[0mfilename\u001b[0m\u001b[0;34m)\u001b[0m\u001b[0;34m\u001b[0m\u001b[0;34m\u001b[0m\u001b[0m\n\u001b[0m\u001b[1;32m      3\u001b[0m \u001b[0mtable\u001b[0m\u001b[0;34m\u001b[0m\u001b[0;34m\u001b[0m\u001b[0m\n",
      "\u001b[0;31mNameError\u001b[0m: name 'pd' is not defined"
     ]
    }
   ],
   "source": [
    "filename = 'main.csv'\n",
    "table = pd.read_csv('Data/' +filename)\n",
    "table"
   ]
  },
  {
   "cell_type": "code",
   "execution_count": 12,
   "metadata": {},
   "outputs": [
    {
     "name": "stdout",
     "output_type": "stream",
     "text": [
      "8\n"
     ]
    }
   ],
   "source": [
    "scale = 'scale_1x'\n",
    "limit = 100000\n",
    "if scale == 'scale_2x':\n",
    "   limit = limit * 2\n",
    "elif scale == 'scale_5x':\n",
    "   limit = limit * 5\n",
    "\n",
    "table_Loc= {\n",
    "   \"ozone\":[],\n",
    "   \"particullate_matter\":[],\n",
    "   \"carbon_monoxide\":[],\n",
    "   \"sulfure_dioxide\":[],\n",
    "   \"nitrogen_dioxide\":[],\n",
    "   \"longitude\":[],\n",
    "   \"latitude\":[],\n",
    "   \"timestamp\":[]\n",
    "}\n",
    "tuple_count = 0\n",
    "for tup in table.itertuples():\n",
    "   if(tuple_count > limit):\n",
    "      break\n",
    "   if(tup.ozone != 'ozone'):\n",
    "      tuple_count += 1\n",
    "      table_Loc['ozone'].append(tup[1])\n",
    "      table_Loc['particullate_matter'].append(tup[2])\n",
    "      table_Loc['carbon_monoxide'].append(tup[3])\n",
    "      table_Loc['sulfure_dioxide'].append(tup[4])\n",
    "      table_Loc['nitrogen_dioxide'].append(tup[5])\n",
    "      table_Loc['longitude'].append(tup[6])\n",
    "      table_Loc['latitude'].append(tup[7])\n",
    "      table_Loc['timestamp'].append(tup[8])\n",
    "\n",
    "#print((table_Loc))\n",
    "df = pd.DataFrame(table_Loc)\n",
    "print(len(table_Loc))\n",
    "df.to_csv('Data/' +scale+ '/fragments/Fr_' + filename ,mode='w',index = False)"
   ]
  }
 ],
 "metadata": {
  "interpreter": {
   "hash": "e7370f93d1d0cde622a1f8e1c04877d8463912d04d973331ad4851f04de6915a"
  },
  "kernelspec": {
   "display_name": "Python 3.8.10 64-bit",
   "language": "python",
   "name": "python3"
  },
  "language_info": {
   "codemirror_mode": {
    "name": "ipython",
    "version": 3
   },
   "file_extension": ".py",
   "mimetype": "text/x-python",
   "name": "python",
   "nbconvert_exporter": "python",
   "pygments_lexer": "ipython3",
   "version": "3.8.10"
  },
  "orig_nbformat": 4
 },
 "nbformat": 4,
 "nbformat_minor": 2
}
